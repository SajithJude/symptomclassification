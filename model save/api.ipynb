{
 "cells": [
  {
   "cell_type": "markdown",
   "metadata": {},
   "source": [
    "# Diabetic Prediction Backend"
   ]
  },
  {
   "cell_type": "code",
   "execution_count": 1,
   "metadata": {},
   "outputs": [
    {
     "data": {
      "text/plain": [
       "{'result': {'label_idx': '1', 'label_name': 'Diabetic'}, 'success': True}"
      ]
     },
     "execution_count": 1,
     "metadata": {},
     "output_type": "execute_result"
    }
   ],
   "source": [
    "import requests\n",
    "URL = 'http://127.0.0.1:5000/diabetic_prediction'\n",
    "data={\n",
    "        'Pregnancies' : 6,\n",
    "        'Glucose' : 148,\n",
    "        'BloodPressure' : 72,\n",
    "        'SkinThickness' : 35,\n",
    "        'Insulin' : 0,\n",
    "        'BMI': 33.6,\n",
    "        'DiabetesPedigreeFunction' :0.627,\n",
    "        'Age': 50\n",
    "}\n",
    "\n",
    "# akses dengan post\n",
    "r= requests.post(URL, json=data)\n",
    "\n",
    "# fetch/tarik data\n",
    "r.json()"
   ]
  },
  {
   "cell_type": "markdown",
   "metadata": {},
   "source": [
    "# Model deployment backend"
   ]
  },
  {
   "cell_type": "code",
   "execution_count": 3,
   "metadata": {},
   "outputs": [
    {
     "data": {
      "text/plain": [
       "{'result': {'label_idx': '0', 'label_name': 'Not Diabetic'}, 'success': True}"
      ]
     },
     "execution_count": 3,
     "metadata": {},
     "output_type": "execute_result"
    }
   ],
   "source": [
    "import requests\n",
    "URL = 'https://diabeticmilestone.herokuapp.com/diabetic_prediction'\n",
    "\n",
    "data={\n",
    "        'Pregnancies' : 1,\n",
    "        'Glucose' : 85,\n",
    "        'BloodPressure' : 66,\n",
    "        'SkinThickness' : 29,\n",
    "        'Insulin' : 0,\n",
    "        'BMI': 26.6,\n",
    "        'DiabetesPedigreeFunction' :0.351,\n",
    "        'Age': 31\n",
    "}\n",
    "\n",
    "# akses dengan post\n",
    "r= requests.post(URL, json=data)\n",
    "\n",
    "# fetch/tarik data\n",
    "r.json()"
   ]
  }
 ],
 "metadata": {
  "kernelspec": {
   "display_name": "Python 3.9.12 ('base')",
   "language": "python",
   "name": "python3"
  },
  "language_info": {
   "codemirror_mode": {
    "name": "ipython",
    "version": 3
   },
   "file_extension": ".py",
   "mimetype": "text/x-python",
   "name": "python",
   "nbconvert_exporter": "python",
   "pygments_lexer": "ipython3",
   "version": "3.9.12"
  },
  "orig_nbformat": 4,
  "vscode": {
   "interpreter": {
    "hash": "a81b2d6e84f3c5cd14f16e8350beaef38352aa02e60c0b7188c4411bd6af4aa9"
   }
  }
 },
 "nbformat": 4,
 "nbformat_minor": 2
}
